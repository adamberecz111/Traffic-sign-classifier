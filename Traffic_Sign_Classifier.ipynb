{
 "cells": [
  {
   "cell_type": "markdown",
   "metadata": {},
   "source": [
    "# Self-Driving Car Engineer Nanodegree\n",
    "\n",
    "## Deep Learning\n",
    "\n",
    "## Project: Build a Traffic Sign Recognition Classifier\n",
    "\n",
    "In this notebook, a template is provided for you to implement your functionality in stages, which is required to successfully complete this project. If additional code is required that cannot be included in the notebook, be sure that the Python code is successfully imported and included in your submission if necessary. \n",
    "\n",
    "> **Note**: Once you have completed all of the code implementations, you need to finalize your work by exporting the iPython Notebook as an HTML document. Before exporting the notebook to html, all of the code cells need to have been run so that reviewers can see the final implementation and output. You can then export the notebook by using the menu above and navigating to  \\n\",\n",
    "    \"**File -> Download as -> HTML (.html)**. Include the finished document along with this notebook as your submission. \n",
    "\n",
    "In addition to implementing code, there is a writeup to complete. The writeup should be completed in a separate file, which can be either a markdown file or a pdf document. There is a [write up template](https://github.com/udacity/CarND-Traffic-Sign-Classifier-Project/blob/master/writeup_template.md) that can be used to guide the writing process. Completing the code template and writeup template will cover all of the [rubric points](https://review.udacity.com/#!/rubrics/481/view) for this project.\n",
    "\n",
    "The [rubric](https://review.udacity.com/#!/rubrics/481/view) contains \"Stand Out Suggestions\" for enhancing the project beyond the minimum requirements. The stand out suggestions are optional. If you decide to pursue the \"stand out suggestions\", you can include the code in this Ipython notebook and also discuss the results in the writeup file.\n",
    "\n",
    "\n",
    ">**Note:** Code and Markdown cells can be executed using the **Shift + Enter** keyboard shortcut. In addition, Markdown cells can be edited by typically double-clicking the cell to enter edit mode."
   ]
  },
  {
   "cell_type": "markdown",
   "metadata": {},
   "source": [
    "---\n",
    "## Step 0: Load The Data"
   ]
  },
  {
   "cell_type": "code",
   "execution_count": 1,
   "metadata": {},
   "outputs": [],
   "source": [
    "# Load pickled data\n",
    "import pickle\n",
    "import numpy as np\n",
    "import cv2\n",
    "\n",
    "# TODO: Fill this in based on where you saved the training and testing data\n",
    "\n",
    "training_file = \"../data/train.p\"\n",
    "validation_file=\"../data/valid.p\"\n",
    "testing_file = \"../data/test.p\"\n",
    "\n",
    "with open(training_file, mode='rb') as f:\n",
    "    train = pickle.load(f)\n",
    "with open(validation_file, mode='rb') as f:\n",
    "    valid = pickle.load(f)\n",
    "with open(testing_file, mode='rb') as f:\n",
    "    test = pickle.load(f)\n",
    "    \n",
    "X_train, y_train = train['features'], train['labels']\n",
    "X_valid, y_valid = valid['features'], valid['labels']\n",
    "X_test, y_test = test['features'], test['labels']"
   ]
  },
  {
   "cell_type": "markdown",
   "metadata": {},
   "source": [
    "---\n",
    "\n",
    "## Step 1: Dataset Summary & Exploration\n",
    "\n",
    "The pickled data is a dictionary with 4 key/value pairs:\n",
    "\n",
    "- `'features'` is a 4D array containing raw pixel data of the traffic sign images, (num examples, width, height, channels).\n",
    "- `'labels'` is a 1D array containing the label/class id of the traffic sign. The file `signnames.csv` contains id -> name mappings for each id.\n",
    "- `'sizes'` is a list containing tuples, (width, height) representing the original width and height the image.\n",
    "- `'coords'` is a list containing tuples, (x1, y1, x2, y2) representing coordinates of a bounding box around the sign in the image. **THESE COORDINATES ASSUME THE ORIGINAL IMAGE. THE PICKLED DATA CONTAINS RESIZED VERSIONS (32 by 32) OF THESE IMAGES**\n",
    "\n",
    "Complete the basic data summary below. Use python, numpy and/or pandas methods to calculate the data summary rather than hard coding the results. For example, the [pandas shape method](http://pandas.pydata.org/pandas-docs/stable/generated/pandas.DataFrame.shape.html) might be useful for calculating some of the summary results. "
   ]
  },
  {
   "cell_type": "markdown",
   "metadata": {},
   "source": [
    "### Provide a Basic Summary of the Data Set Using Python, Numpy and/or Pandas"
   ]
  },
  {
   "cell_type": "code",
   "execution_count": 2,
   "metadata": {},
   "outputs": [
    {
     "name": "stdout",
     "output_type": "stream",
     "text": [
      "Number of training examples = 34799\n",
      "Number of testing examples = 12630\n",
      "Image data shape = (32, 32, 3)\n",
      "Number of classes = 43\n"
     ]
    }
   ],
   "source": [
    "### Replace each question mark with the appropriate value. \n",
    "### Use python, pandas or numpy methods rather than hard coding the results\n",
    "\n",
    "# TODO: Number of training examples\n",
    "n_train = len(X_train)\n",
    "\n",
    "# TODO: Number of validation examples\n",
    "n_validation = len(X_valid)\n",
    "\n",
    "# TODO: Number of testing examples.\n",
    "n_test = len(X_test)\n",
    "\n",
    "# TODO: What's the shape of an traffic sign image?\n",
    "image_shape = X_train[0].shape\n",
    "\n",
    "# TODO: How many unique classes/labels there are in the dataset.\n",
    "n_classes = np.unique(y_train).size\n",
    "\n",
    "print(\"Number of training examples =\", n_train)\n",
    "print(\"Number of testing examples =\", n_test)\n",
    "print(\"Image data shape =\", image_shape)\n",
    "print(\"Number of classes =\", n_classes)"
   ]
  },
  {
   "cell_type": "markdown",
   "metadata": {},
   "source": [
    "### Include an exploratory visualization of the dataset"
   ]
  },
  {
   "cell_type": "markdown",
   "metadata": {},
   "source": [
    "Visualize the German Traffic Signs Dataset using the pickled file(s). This is open ended, suggestions include: plotting traffic sign images, plotting the count of each sign, etc. \n",
    "\n",
    "The [Matplotlib](http://matplotlib.org/) [examples](http://matplotlib.org/examples/index.html) and [gallery](http://matplotlib.org/gallery.html) pages are a great resource for doing visualizations in Python.\n",
    "\n",
    "**NOTE:** It's recommended you start with something simple first. If you wish to do more, come back to it after you've completed the rest of the sections. It can be interesting to look at the distribution of classes in the training, validation and test set. Is the distribution the same? Are there more examples of some classes than others?"
   ]
  },
  {
   "cell_type": "code",
   "execution_count": 76,
   "metadata": {},
   "outputs": [
    {
     "data": {
      "image/png": "[encoded data removed]",
      "text/plain": [
       "<matplotlib.figure.Figure at 0x7f7e21bfe1d0>"
      ]
     },
     "metadata": {
      "needs_background": "light"
     },
     "output_type": "display_data"
    }
   ],
   "source": [
    "### Data exploration visualization code goes here.\n",
    "### Feel free to use as many code cells as needed.\n",
    "import matplotlib.pyplot as plt\n",
    "# Visualizations will be shown in the notebook.\n",
    "%matplotlib inline\n",
    "\n",
    "uniquetrain, counttrain = np.unique(y_train, return_counts = True)\n",
    "uniquevalid, countvalid = np.unique(y_valid, return_counts = True)\n",
    "uniquetest, counttest = np.unique(y_test, return_counts = True)\n",
    "\n",
    "fig, ax = plt.subplots(figsize=(16, 6), dpi=80)\n",
    "ax.set_ylabel('num')\n",
    "ax.set_title('labels')\n",
    "\n",
    "labels = uniquetrain\n",
    "trainplot = counttrain\n",
    "validplot = countvalid\n",
    "testplot = counttest\n",
    "x = np.arange(len(labels))\n",
    "x = x*1.5\n",
    "rects1 = ax.bar(x - width/2, trainplot, width, label='train')\n",
    "rects2 = ax.bar(x + width/2, validplot, width, label='valid')\n",
    "rects3 = ax.bar(x + width+0.35/2, testplot, width, label='test')\n",
    "\n",
    "ax.set_ylabel('num')\n",
    "ax.set_title('labels')\n",
    "ax.set_xticks(x)\n",
    "ax.set_xticklabels(labels)\n",
    "ax.legend()\n",
    "plt.show()"
   ]
  },
  {
   "cell_type": "markdown",
   "metadata": {},
   "source": [
    "----\n",
    "\n",
    "## Step 2: Design and Test a Model Architecture\n",
    "\n",
    "Design and implement a deep learning model that learns to recognize traffic signs. Train and test your model on the [German Traffic Sign Dataset](http://benchmark.ini.rub.de/?section=gtsrb&subsection=dataset).\n",
    "\n",
    "The LeNet-5 implementation shown in the [classroom](https://classroom.udacity.com/nanodegrees/nd013/parts/fbf77062-5703-404e-b60c-95b78b2f3f9e/modules/6df7ae49-c61c-4bb2-a23e-6527e69209ec/lessons/601ae704-1035-4287-8b11-e2c2716217ad/concepts/d4aca031-508f-4e0b-b493-e7b706120f81) at the end of the CNN lesson is a solid starting point. You'll have to change the number of classes and possibly the preprocessing, but aside from that it's plug and play! \n",
    "\n",
    "With the LeNet-5 solution from the lecture, you should expect a validation set accuracy of about 0.89. To meet specifications, the validation set accuracy will need to be at least 0.93. It is possible to get an even higher accuracy, but 0.93 is the minimum for a successful project submission. \n",
    "\n",
    "There are various aspects to consider when thinking about this problem:\n",
    "\n",
    "- Neural network architecture (is the network over or underfitting?)\n",
    "- Play around preprocessing techniques (normalization, rgb to grayscale, etc)\n",
    "- Number of examples per label (some have more than others).\n",
    "- Generate fake data.\n",
    "\n",
    "Here is an example of a [published baseline model on this problem](http://yann.lecun.com/exdb/publis/pdf/sermanet-ijcnn-11.pdf). It's not required to be familiar with the approach used in the paper but, it's good practice to try to read papers like these."
   ]
  },
  {
   "cell_type": "markdown",
   "metadata": {},
   "source": [
    "### Pre-process the Data Set (normalization, grayscale, etc.)"
   ]
  },
  {
   "cell_type": "markdown",
   "metadata": {},
   "source": [
    "Minimally, the image data should be normalized so that the data has mean zero and equal variance. For image data, `(pixel - 128)/ 128` is a quick way to approximately normalize the data and can be used in this project. \n",
    "\n",
    "Other pre-processing steps are optional. You can try different techniques to see if it improves performance. \n",
    "\n",
    "Use the code cell (or multiple code cells, if necessary) to implement the first step of your project."
   ]
  },
  {
   "cell_type": "code",
   "execution_count": 4,
   "metadata": {},
   "outputs": [],
   "source": [
    "### Preprocess the data here. It is required to normalize the data. Other preprocessing steps could include \n",
    "### converting to grayscale, etc.\n",
    "### Feel free to use as many code cells as needed.\n",
    "from sklearn.utils import shuffle\n",
    "X_train, y_train = shuffle(X_train, y_train)"
   ]
  },
  {
   "cell_type": "markdown",
   "metadata": {},
   "source": [
    "### Model Architecture"
   ]
  },
  {
   "cell_type": "code",
   "execution_count": 5,
   "metadata": {},
   "outputs": [],
   "source": [
    "### Define your architecture here.\n",
    "### Feel free to use as many code cells as needed.\n",
    "import tensorflow as tf\n",
    "from tensorflow.contrib.layers import flatten\n",
    "\n",
    "EPOCHS = 100\n",
    "BATCH_SIZE=128\n",
    "\n",
    "def net(x):\n",
    "    mu = 0\n",
    "    sigma = 0.1\n",
    "    \n",
    "    conv1_W = tf.Variable(tf.truncated_normal(shape=(3,3,3,32), mean = mu, stddev = sigma))\n",
    "    conv1_b = tf.Variable(tf.zeros(32))\n",
    "    conv1 = tf.nn.conv2d(x, conv1_W, strides=[1,1,1,1], padding=\"VALID\") + conv1_b\n",
    "    conv1 = tf.nn.relu(conv1)\n",
    "    \n",
    "    conv1 = tf.nn.max_pool(conv1, ksize=[1,2,2,1], strides=[1,2,2,1], padding=\"VALID\")\n",
    "    \n",
    "    conv2_W = tf.Variable(tf.truncated_normal(shape=(3,3,32,64), mean = mu, stddev = sigma))\n",
    "    conv2_b = tf.Variable(tf.zeros(64))\n",
    "    conv2 = tf.nn.conv2d(conv1, conv2_W, strides=[1,1,1,1], padding=\"VALID\") + conv2_b\n",
    "    conv2 = tf.nn.relu(conv2)\n",
    "\n",
    "    conv2 = tf.nn.max_pool(conv2, ksize=[1,2,2,1], strides=[1,2,2,1], padding=\"VALID\")\n",
    "    \n",
    "    conv3_W = tf.Variable(tf.truncated_normal(shape=(3,3,64,128), mean = mu, stddev = sigma))\n",
    "    conv3_b = tf.Variable(tf.zeros(128))\n",
    "    conv3 = tf.nn.conv2d(conv2, conv3_W, strides=[1,1,1,1], padding=\"VALID\") + conv3_b\n",
    "    conv3 = tf.nn.relu(conv3)\n",
    "\n",
    "    conv3 = tf.nn.max_pool(conv3, ksize=[1,2,2,1], strides=[1,2,2,1], padding=\"VALID\")\n",
    "\n",
    "    fc0 = flatten(conv3)\n",
    "\n",
    "    fc1_W = tf.Variable(tf.truncated_normal(shape=(512,256), mean = mu, stddev = sigma))\n",
    "    fc1_b = tf.Variable(tf.zeros(256))\n",
    "    fc1 = tf.matmul(fc0, fc1_W) + fc1_b\n",
    "    fc1 = tf.nn.relu(fc1)\n",
    "    \n",
    "    fc2_W = tf.Variable(tf.truncated_normal(shape=(256,128), mean = mu, stddev = sigma))\n",
    "    fc2_b = tf.Variable(tf.zeros(128))\n",
    "    fc2 = tf.matmul(fc1, fc2_W) + fc2_b\n",
    "    fc2 = tf.nn.relu(fc2)\n",
    "    \n",
    "    fc3_W = tf.Variable(tf.truncated_normal(shape=(128,43), mean = mu, stddev = sigma))\n",
    "    fc3_b = tf.Variable(tf.zeros(43))\n",
    "    logits = tf.matmul(fc2, fc3_W) + fc3_b\n",
    "    \n",
    "    return logits"
   ]
  },
  {
   "cell_type": "markdown",
   "metadata": {},
   "source": [
    "### Train, Validate and Test the Model"
   ]
  },
  {
   "cell_type": "markdown",
   "metadata": {},
   "source": [
    "A validation set can be used to assess how well the model is performing. A low accuracy on the training and validation\n",
    "sets imply underfitting. A high accuracy on the training set but low accuracy on the validation set implies overfitting."
   ]
  },
  {
   "cell_type": "code",
   "execution_count": 6,
   "metadata": {},
   "outputs": [],
   "source": [
    "### Train your model here.\n",
    "### Calculate and report the accuracy on the training and validation set.\n",
    "### Once a final model architecture is selected, \n",
    "### the accuracy on the test set should be calculated and reported as well.\n",
    "### Feel free to use as many code cells as needed.\n",
    "x = tf.placeholder(tf.float32, (None, 32, 32, 3))\n",
    "y = tf.placeholder(tf.int32, (None))\n",
    "onehot = tf.one_hot(y, 43)\n",
    "\n",
    "rate = 0.001\n",
    "logits = net(x)\n",
    "cross_entropy = tf.nn.softmax_cross_entropy_with_logits(logits=logits, labels=onehot)\n",
    "loss = tf.reduce_mean(cross_entropy)\n",
    "optimizer = tf.train.AdamOptimizer(learning_rate = rate)\n",
    "training = optimizer.minimize(loss)\n",
    "\n",
    "correct_prediction = tf.equal(tf.argmax(logits, 1), tf.argmax(onehot, 1))\n",
    "accuracy = tf.reduce_mean(tf.cast(correct_prediction, tf.float32))\n",
    "\n",
    "def evaluate(xdata, ydata):\n",
    "    num_examples = len(xdata)\n",
    "    total_acc = 0\n",
    "    sess = tf.get_default_session()\n",
    "    for offset in range(0, num_examples, BATCH_SIZE):\n",
    "        batch_x, batch_y = xdata[offset:offset+BATCH_SIZE], ydata[offset:offset+BATCH_SIZE]\n",
    "        acc = sess.run(accuracy, feed_dict={x: batch_x, y: batch_y})\n",
    "        total_acc += (acc * len(batch_x))\n",
    "    return total_acc / num_examples"
   ]
  },
  {
   "cell_type": "code",
   "execution_count": 7,
   "metadata": {},
   "outputs": [
    {
     "name": "stdout",
     "output_type": "stream",
     "text": [
      "epoch 1 ...\n",
      "validation acc = 0.596\n",
      "\n",
      "epoch 2 ...\n",
      "validation acc = 0.745\n",
      "\n",
      "epoch 3 ...\n",
      "validation acc = 0.802\n",
      "\n",
      "epoch 4 ...\n",
      "validation acc = 0.822\n",
      "\n",
      "epoch 5 ...\n",
      "validation acc = 0.828\n",
      "\n",
      "epoch 6 ...\n",
      "validation acc = 0.857\n",
      "\n",
      "epoch 7 ...\n",
      "validation acc = 0.849\n",
      "\n",
      "epoch 8 ...\n",
      "validation acc = 0.888\n",
      "\n",
      "epoch 9 ...\n",
      "validation acc = 0.878\n",
      "\n",
      "epoch 10 ...\n",
      "validation acc = 0.910\n",
      "\n",
      "epoch 11 ...\n",
      "validation acc = 0.896\n",
      "\n",
      "epoch 12 ...\n",
      "validation acc = 0.878\n",
      "\n",
      "epoch 13 ...\n",
      "validation acc = 0.873\n",
      "\n",
      "epoch 14 ...\n",
      "validation acc = 0.903\n",
      "\n",
      "epoch 15 ...\n",
      "validation acc = 0.890\n",
      "\n",
      "epoch 16 ...\n",
      "validation acc = 0.935\n",
      "\n",
      "epoch 17 ...\n",
      "validation acc = 0.934\n",
      "\n",
      "epoch 18 ...\n",
      "validation acc = 0.915\n",
      "\n",
      "epoch 19 ...\n",
      "validation acc = 0.933\n",
      "\n",
      "epoch 20 ...\n",
      "validation acc = 0.897\n",
      "\n",
      "epoch 21 ...\n",
      "validation acc = 0.905\n",
      "\n",
      "epoch 22 ...\n",
      "validation acc = 0.938\n",
      "\n",
      "epoch 23 ...\n",
      "validation acc = 0.936\n",
      "\n",
      "epoch 24 ...\n",
      "validation acc = 0.913\n",
      "\n",
      "epoch 25 ...\n",
      "validation acc = 0.924\n",
      "\n",
      "epoch 26 ...\n",
      "validation acc = 0.893\n",
      "\n",
      "epoch 27 ...\n",
      "validation acc = 0.916\n",
      "\n",
      "epoch 28 ...\n",
      "validation acc = 0.932\n",
      "\n",
      "epoch 29 ...\n",
      "validation acc = 0.929\n",
      "\n",
      "epoch 30 ...\n",
      "validation acc = 0.953\n",
      "\n",
      "epoch 31 ...\n",
      "validation acc = 0.908\n",
      "\n",
      "epoch 32 ...\n",
      "validation acc = 0.941\n",
      "\n",
      "epoch 33 ...\n",
      "validation acc = 0.934\n",
      "\n",
      "epoch 34 ...\n",
      "validation acc = 0.943\n",
      "\n",
      "epoch 35 ...\n",
      "validation acc = 0.930\n",
      "\n",
      "epoch 36 ...\n",
      "validation acc = 0.946\n",
      "\n",
      "epoch 37 ...\n",
      "validation acc = 0.952\n",
      "\n",
      "epoch 38 ...\n",
      "validation acc = 0.939\n",
      "\n",
      "epoch 39 ...\n",
      "validation acc = 0.943\n",
      "\n",
      "epoch 40 ...\n",
      "validation acc = 0.938\n",
      "\n",
      "epoch 41 ...\n",
      "validation acc = 0.939\n",
      "\n",
      "epoch 42 ...\n",
      "validation acc = 0.960\n",
      "\n",
      "epoch 43 ...\n",
      "validation acc = 0.942\n",
      "\n",
      "epoch 44 ...\n",
      "validation acc = 0.951\n",
      "\n",
      "epoch 45 ...\n",
      "validation acc = 0.956\n",
      "\n",
      "epoch 46 ...\n",
      "validation acc = 0.950\n",
      "\n",
      "epoch 47 ...\n",
      "validation acc = 0.940\n",
      "\n",
      "epoch 48 ...\n",
      "validation acc = 0.942\n",
      "\n",
      "epoch 49 ...\n",
      "validation acc = 0.947\n",
      "\n",
      "epoch 50 ...\n",
      "validation acc = 0.959\n",
      "\n",
      "epoch 51 ...\n",
      "validation acc = 0.929\n",
      "\n",
      "epoch 52 ...\n",
      "validation acc = 0.961\n",
      "\n",
      "epoch 53 ...\n",
      "validation acc = 0.955\n",
      "\n",
      "epoch 54 ...\n",
      "validation acc = 0.958\n",
      "\n",
      "epoch 55 ...\n",
      "validation acc = 0.961\n",
      "\n",
      "epoch 56 ...\n",
      "validation acc = 0.949\n",
      "\n",
      "epoch 57 ...\n",
      "validation acc = 0.962\n",
      "\n",
      "epoch 58 ...\n",
      "validation acc = 0.951\n",
      "\n",
      "epoch 59 ...\n",
      "validation acc = 0.950\n",
      "\n",
      "epoch 60 ...\n",
      "validation acc = 0.950\n",
      "\n",
      "epoch 61 ...\n",
      "validation acc = 0.939\n",
      "\n",
      "epoch 62 ...\n",
      "validation acc = 0.949\n",
      "\n",
      "epoch 63 ...\n",
      "validation acc = 0.959\n",
      "\n",
      "epoch 64 ...\n",
      "validation acc = 0.957\n",
      "\n",
      "epoch 65 ...\n",
      "validation acc = 0.952\n",
      "\n",
      "epoch 66 ...\n",
      "validation acc = 0.952\n",
      "\n",
      "epoch 67 ...\n",
      "validation acc = 0.946\n",
      "\n",
      "epoch 68 ...\n",
      "validation acc = 0.958\n",
      "\n",
      "epoch 69 ...\n",
      "validation acc = 0.959\n",
      "\n",
      "epoch 70 ...\n",
      "validation acc = 0.941\n",
      "\n",
      "epoch 71 ...\n",
      "validation acc = 0.961\n",
      "\n",
      "epoch 72 ...\n",
      "validation acc = 0.963\n",
      "\n",
      "epoch 73 ...\n",
      "validation acc = 0.958\n",
      "\n",
      "epoch 74 ...\n",
      "validation acc = 0.957\n",
      "\n",
      "epoch 75 ...\n",
      "validation acc = 0.969\n",
      "\n",
      "epoch 76 ...\n",
      "validation acc = 0.962\n",
      "\n",
      "epoch 77 ...\n",
      "validation acc = 0.962\n",
      "\n",
      "epoch 78 ...\n",
      "validation acc = 0.946\n",
      "\n",
      "epoch 79 ...\n",
      "validation acc = 0.956\n",
      "\n",
      "epoch 80 ...\n",
      "validation acc = 0.960\n",
      "\n",
      "epoch 81 ...\n",
      "validation acc = 0.953\n",
      "\n",
      "epoch 82 ...\n",
      "validation acc = 0.951\n",
      "\n",
      "epoch 83 ...\n",
      "validation acc = 0.965\n",
      "\n",
      "epoch 84 ...\n",
      "validation acc = 0.962\n",
      "\n",
      "epoch 85 ...\n",
      "validation acc = 0.951\n",
      "\n",
      "epoch 86 ...\n",
      "validation acc = 0.956\n",
      "\n",
      "epoch 87 ...\n",
      "validation acc = 0.964\n",
      "\n",
      "epoch 88 ...\n",
      "validation acc = 0.933\n",
      "\n",
      "epoch 89 ...\n",
      "validation acc = 0.955\n",
      "\n",
      "epoch 90 ...\n",
      "validation acc = 0.963\n",
      "\n",
      "epoch 91 ...\n",
      "validation acc = 0.958\n",
      "\n",
      "epoch 92 ...\n",
      "validation acc = 0.957\n",
      "\n",
      "epoch 93 ...\n",
      "validation acc = 0.958\n",
      "\n",
      "epoch 94 ...\n",
      "validation acc = 0.964\n",
      "\n",
      "epoch 95 ...\n",
      "validation acc = 0.961\n",
      "\n",
      "epoch 96 ...\n",
      "validation acc = 0.959\n",
      "\n",
      "epoch 97 ...\n",
      "validation acc = 0.934\n",
      "\n",
      "epoch 98 ...\n",
      "validation acc = 0.929\n",
      "\n",
      "epoch 99 ...\n",
      "validation acc = 0.957\n",
      "\n",
      "epoch 100 ...\n",
      "validation acc = 0.955\n",
      "\n",
      "test acc = 0.946\n"
     ]
    }
   ],
   "source": [
    "with tf.Session() as sess:\n",
    "    sess.run(tf.global_variables_initializer())\n",
    "    num_examples = len(X_train)\n",
    "    for i in range(EPOCHS):\n",
    "        X_train, y_train = shuffle(X_train, y_train)\n",
    "        for offset in range(0, num_examples, BATCH_SIZE):\n",
    "            end = offset + BATCH_SIZE\n",
    "            batch_x, batch_y = X_train[offset:offset+BATCH_SIZE], y_train[offset:offset+BATCH_SIZE]\n",
    "            sess.run(training, feed_dict={x: batch_x, y: batch_y})\n",
    "        validation_acc = evaluate(X_valid, y_valid)\n",
    "        print(\"epoch {} ...\".format(i+1))\n",
    "        print(\"validation acc = {:.3f}\".format(validation_acc))\n",
    "        #if validation_acc > 0.95:\n",
    "            #break\n",
    "        print()\n",
    "    try:\n",
    "        saver\n",
    "    except NameError:\n",
    "        saver = tf.train.Saver()\n",
    "    saver.save(sess, './save')\n",
    "    \n",
    "    test_acc = evaluate(X_test, y_test)\n",
    "    print(\"test acc = {:.3f}\".format(test_acc))"
   ]
  },
  {
   "cell_type": "markdown",
   "metadata": {},
   "source": [
    "---\n",
    "\n",
    "## Step 3: Test a Model on New Images\n",
    "\n",
    "To give yourself more insight into how your model is working, download at least five pictures of German traffic signs from the web and use your model to predict the traffic sign type.\n",
    "\n",
    "You may find `signnames.csv` useful as it contains mappings from the class id (integer) to the actual sign name."
   ]
  },
  {
   "cell_type": "markdown",
   "metadata": {},
   "source": [
    "### Load and Output the Images"
   ]
  },
  {
   "cell_type": "code",
   "execution_count": 8,
   "metadata": {},
   "outputs": [
    {
     "data": {
      "image/png": "[encoded data removed]",
      "text/plain": [
       "<matplotlib.figure.Figure at 0x7f237c6bedd8>"
      ]
     },
     "metadata": {
      "needs_background": "light"
     },
     "output_type": "display_data"
    },
    {
     "data": {
      "image/png": "[encoded data removed]",
      "text/plain": [
       "<matplotlib.figure.Figure at 0x7f23c9521d68>"
      ]
     },
     "metadata": {
      "needs_background": "light"
     },
     "output_type": "display_data"
    },
    {
     "data": {
      "image/png": "[encoded data removed]",
      "text/plain": [
       "<matplotlib.figure.Figure at 0x7f23c95036d8>"
      ]
     },
     "metadata": {
      "needs_background": "light"
     },
     "output_type": "display_data"
    },
    {
     "data": {
      "image/png": "[encoded data removed]",
      "text/plain": [
       "<matplotlib.figure.Figure at 0x7f23c95c50f0>"
      ]
     },
     "metadata": {
      "needs_background": "light"
     },
     "output_type": "display_data"
    },
    {
     "data": {
      "image/png": "[encoded data removed]",
      "text/plain": [
       "<matplotlib.figure.Figure at 0x7f23c957ca90>"
      ]
     },
     "metadata": {
      "needs_background": "light"
     },
     "output_type": "display_data"
    }
   ],
   "source": [
    "### Load the images and plot them here.\n",
    "### Feel free to use as many code cells as needed.\n",
    "import os\n",
    "import matplotlib.image as mpimg\n",
    "import glob\n",
    "import cv2\n",
    "import numpy as np\n",
    "import matplotlib.pyplot as plt\n",
    "%matplotlib inline\n",
    "\n",
    "imagestest = []\n",
    "\n",
    "for file in glob.glob(\"./test/*.jpg\"):\n",
    "    image = cv2.imread(file)\n",
    "    image = cv2.cvtColor(image, cv2.COLOR_BGR2RGB)   \n",
    "    image = cv2.resize(image, (32, 32))\n",
    "    plt.figure()\n",
    "    plt.imshow(image)\n",
    "    imagestest.append(image)  \n",
    "    \n",
    "imagestest = np.array(imagestest)"
   ]
  },
  {
   "cell_type": "markdown",
   "metadata": {},
   "source": [
    "### Predict the Sign Type for Each Image"
   ]
  },
  {
   "cell_type": "code",
   "execution_count": 9,
   "metadata": {},
   "outputs": [
    {
     "name": "stdout",
     "output_type": "stream",
     "text": [
      "INFO:tensorflow:Restoring parameters from ./save\n",
      "custom image acc = 0.600\n"
     ]
    }
   ],
   "source": [
    "### Run the predictions here and use the model to output the prediction for each image.\n",
    "### Make sure to pre-process the images with the same pre-processing pipeline used earlier.\n",
    "### Feel free to use as many code cells as needed.\n",
    "#savers = tf.train.Saver()\n",
    "labels = np.array([2, 39, 14, 13, 9])\n",
    "pic=[]\n",
    "lab=[]\n",
    "with tf.Session() as sess:\n",
    "    sess.run(tf.global_variables_initializer())\n",
    "    savers = tf.train.import_meta_graph('./save.meta')\n",
    "    savers.restore(sess, \"./save\")\n",
    "    accs = evaluate(imagestest, labels)\n",
    "    print(\"custom image acc = {:.3f}\".format(accs))"
   ]
  },
  {
   "cell_type": "markdown",
   "metadata": {},
   "source": [
    "### Output Top 5 Softmax Probabilities For Each Image Found on the Web"
   ]
  },
  {
   "cell_type": "markdown",
   "metadata": {},
   "source": [
    "For each of the new images, print out the model's softmax probabilities to show the **certainty** of the model's predictions (limit the output to the top 5 probabilities for each image). [`tf.nn.top_k`](https://www.tensorflow.org/versions/r0.12/api_docs/python/nn.html#top_k) could prove helpful here. \n",
    "\n",
    "The example below demonstrates how tf.nn.top_k can be used to find the top k predictions for each image.\n",
    "\n",
    "`tf.nn.top_k` will return the values and indices (class ids) of the top k predictions. So if k=3, for each sign, it'll return the 3 largest probabilities (out of a possible 43) and the correspoding class ids.\n",
    "\n",
    "Take this numpy array as an example. The values in the array represent predictions. The array contains softmax probabilities for five candidate images with six possible classes. `tf.nn.top_k` is used to choose the three classes with the highest probability:\n",
    "\n",
    "```\n",
    "# (5, 6) array\n",
    "a = np.array([[ 0.24879643,  0.07032244,  0.12641572,  0.34763842,  0.07893497,\n",
    "         0.12789202],\n",
    "       [ 0.28086119,  0.27569815,  0.08594638,  0.0178669 ,  0.18063401,\n",
    "         0.15899337],\n",
    "       [ 0.26076848,  0.23664738,  0.08020603,  0.07001922,  0.1134371 ,\n",
    "         0.23892179],\n",
    "       [ 0.11943333,  0.29198961,  0.02605103,  0.26234032,  0.1351348 ,\n",
    "         0.16505091],\n",
    "       [ 0.09561176,  0.34396535,  0.0643941 ,  0.16240774,  0.24206137,\n",
    "         0.09155967]])\n",
    "```\n",
    "\n",
    "Running it through `sess.run(tf.nn.top_k(tf.constant(a), k=3))` produces:\n",
    "\n",
    "```\n",
    "TopKV2(values=array([[ 0.34763842,  0.24879643,  0.12789202],\n",
    "       [ 0.28086119,  0.27569815,  0.18063401],\n",
    "       [ 0.26076848,  0.23892179,  0.23664738],\n",
    "       [ 0.29198961,  0.26234032,  0.16505091],\n",
    "       [ 0.34396535,  0.24206137,  0.16240774]]), indices=array([[3, 0, 5],\n",
    "       [0, 1, 4],\n",
    "       [0, 5, 1],\n",
    "       [1, 3, 5],\n",
    "       [1, 4, 3]], dtype=int32))\n",
    "```\n",
    "\n",
    "Looking just at the first row we get `[ 0.34763842,  0.24879643,  0.12789202]`, you can confirm these are the 3 largest probabilities in `a`. You'll also notice `[3, 0, 5]` are the corresponding indices."
   ]
  },
  {
   "cell_type": "code",
   "execution_count": 10,
   "metadata": {},
   "outputs": [
    {
     "name": "stdout",
     "output_type": "stream",
     "text": [
      "INFO:tensorflow:Restoring parameters from ./save\n",
      "TopKV2(values=array([[  1.00000000e+00,   1.62016706e-10,   6.37421919e-13,\n",
      "          4.38868302e-14,   1.07110196e-14],\n",
      "       [  1.00000000e+00,   0.00000000e+00,   0.00000000e+00,\n",
      "          0.00000000e+00,   0.00000000e+00],\n",
      "       [  1.00000000e+00,   4.09353454e-22,   7.51821618e-25,\n",
      "          1.48684212e-33,   1.85892941e-34],\n",
      "       [  1.00000000e+00,   0.00000000e+00,   0.00000000e+00,\n",
      "          0.00000000e+00,   0.00000000e+00],\n",
      "       [  1.00000000e+00,   1.04289418e-15,   7.66437074e-16,\n",
      "          4.18802759e-19,   2.09459886e-20]], dtype=float32), indices=array([[ 5,  1,  2,  3,  7],\n",
      "       [39,  0,  1,  2,  3],\n",
      "       [17, 14, 13,  1, 29],\n",
      "       [13,  0,  1,  2,  3],\n",
      "       [ 9, 32, 17, 28,  3]], dtype=int32))\n"
     ]
    }
   ],
   "source": [
    "### Print out the top five softmax probabilities for the predictions on the German traffic sign images found on the web. \n",
    "### Feel free to use as many code cells as needed.\n",
    "softmax_logits = tf.nn.softmax(logits)\n",
    "top_k = tf.nn.top_k(softmax_logits, k=5)\n",
    "with tf.Session() as sess:\n",
    "    sess.run(tf.global_variables_initializer())\n",
    "    savers = tf.train.import_meta_graph('./save.meta')\n",
    "    savers.restore(sess, \"./save\")\n",
    "    softmax_logitss = sess.run(softmax_logits, feed_dict={x: imagestest})\n",
    "    top = sess.run(top_k, feed_dict={x: imagestest})\n",
    "    print(top)"
   ]
  },
  {
   "cell_type": "markdown",
   "metadata": {},
   "source": [
    "### Project Writeup\n",
    "\n",
    "Once you have completed the code implementation, document your results in a project writeup using this [template](https://github.com/udacity/CarND-Traffic-Sign-Classifier-Project/blob/master/writeup_template.md) as a guide. The writeup can be in a markdown or pdf file. "
   ]
  }
 ],
 "metadata": {
  "anaconda-cloud": {},
  "kernelspec": {
   "display_name": "Python 3",
   "language": "python",
   "name": "python3"
  },
  "language_info": {
   "codemirror_mode": {
    "name": "ipython",
    "version": 3
   },
   "file_extension": ".py",
   "mimetype": "text/x-python",
   "name": "python",
   "nbconvert_exporter": "python",
   "pygments_lexer": "ipython3",
   "version": "3.6.3"
  }
 },
 "nbformat": 4,
 "nbformat_minor": 1
}
